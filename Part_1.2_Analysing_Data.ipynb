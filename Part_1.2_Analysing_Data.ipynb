{
 "cells": [
  {
   "cell_type": "code",
   "execution_count": 34,
   "id": "178298e3",
   "metadata": {},
   "outputs": [],
   "source": [
    "#Analysis part-3 calculations and final verdict"
   ]
  },
  {
   "cell_type": "code",
   "execution_count": 35,
   "id": "498c80a1",
   "metadata": {},
   "outputs": [],
   "source": [
    "import matplotlib.pyplot as plt\n",
    "import pandas as pd\n",
    "import numpy as np\n",
    "import math\n",
    "from scipy import constants as con\n",
    "from scipy.optimize import curve_fit "
   ]
  },
  {
   "cell_type": "code",
   "execution_count": 36,
   "id": "ceb53754",
   "metadata": {},
   "outputs": [],
   "source": [
    "#value of constants from previous exercies \n",
    "#constants\n",
    "pi = math.pi\n",
    "c =  con.speed_of_light\n",
    "G = con.gravitational_constant\n",
    "r = 0.00062\n",
    "Solarmass=1.989e30\n",
    "Mtotal=83.86537221469732\n",
    "#reduced mass\n",
    "u=Mtotal/4\n",
    "Fwm=113.77777777777777\n",
    "#strain\n",
    "h=1e-21\n",
    "d=443341.2701256073"
   ]
  },
  {
   "cell_type": "code",
   "execution_count": 37,
   "id": "41c7ef04",
   "metadata": {},
   "outputs": [
    {
     "data": {
      "text/plain": [
       "1.5478804938235942e+25"
      ]
     },
     "execution_count": 37,
     "metadata": {},
     "output_type": "execute_result"
    }
   ],
   "source": [
    "r=((64*(G**5)*((u*Solarmass)**2)*((Mtotal*Solarmass)**3))/(5*(c**8)*(h**2)*(4*pi*pi)*(Fwm**2)*(d**5)))**(.5)\n",
    "r"
   ]
  },
  {
   "cell_type": "code",
   "execution_count": 38,
   "id": "9ff3f342",
   "metadata": {},
   "outputs": [
    {
     "data": {
      "text/plain": [
       "1.6360643629886842"
      ]
     },
     "execution_count": 38,
     "metadata": {},
     "output_type": "execute_result"
    }
   ],
   "source": [
    "r/(9.461*(10**24))"
   ]
  },
  {
   "cell_type": "code",
   "execution_count": 39,
   "id": "0d597e30",
   "metadata": {},
   "outputs": [],
   "source": [
    "#the distance of GW150914 comes out to be 1.636 billion light years away \n",
    "#official data says that it more than a billion light years away from us."
   ]
  },
  {
   "cell_type": "code",
   "execution_count": null,
   "id": "91720a05",
   "metadata": {},
   "outputs": [],
   "source": []
  }
 ],
 "metadata": {
  "kernelspec": {
   "display_name": "Python 3 (ipykernel)",
   "language": "python",
   "name": "python3"
  },
  "language_info": {
   "codemirror_mode": {
    "name": "ipython",
    "version": 3
   },
   "file_extension": ".py",
   "mimetype": "text/x-python",
   "name": "python",
   "nbconvert_exporter": "python",
   "pygments_lexer": "ipython3",
   "version": "3.10.9"
  }
 },
 "nbformat": 4,
 "nbformat_minor": 5
}
